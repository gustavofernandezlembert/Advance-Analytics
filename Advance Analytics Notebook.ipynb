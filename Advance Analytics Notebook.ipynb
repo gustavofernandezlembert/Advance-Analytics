{
  "nbformat": 4,
  "nbformat_minor": 0,
  "metadata": {
    "colab": {
      "provenance": [],
      "authorship_tag": "ABX9TyN3nwH3FmR81Bz5/VAupxGw",
      "include_colab_link": true
    },
    "kernelspec": {
      "name": "python3",
      "display_name": "Python 3"
    },
    "language_info": {
      "name": "python"
    }
  },
  "cells": [
    {
      "cell_type": "markdown",
      "metadata": {
        "id": "view-in-github",
        "colab_type": "text"
      },
      "source": [
        "<a href=\"https://colab.research.google.com/github/gustavofernandezlembert/Analysis-Diabetic-Patients-Records-/blob/master/Advance%20Analytics%20Notebook.ipynb\" target=\"_parent\"><img src=\"https://colab.research.google.com/assets/colab-badge.svg\" alt=\"Open In Colab\"/></a>"
      ]
    },
    {
      "cell_type": "markdown",
      "source": [
        "#Google Colab Notebook\n",
        "This works!\n",
        "\n",
        "here I will show many of the examples and assigments done throughout the course in Advance Analytics and Python Automation in Google. Also show any personal examples and projects related to the topics."
      ],
      "metadata": {
        "id": "81HS4oIZKent"
      }
    },
    {
      "cell_type": "code",
      "source": [
        "print('Hello Viewers')"
      ],
      "metadata": {
        "colab": {
          "base_uri": "https://localhost:8080/"
        },
        "id": "RdAb7u0gKlea",
        "outputId": "b5c763e7-79e4-4135-c2a4-0f4a602eece4"
      },
      "execution_count": 1,
      "outputs": [
        {
          "output_type": "stream",
          "name": "stdout",
          "text": [
            "Hello Viewers\n"
          ]
        }
      ]
    },
    {
      "cell_type": "code",
      "source": [],
      "metadata": {
        "id": "xDNa3nr99nlF"
      },
      "execution_count": null,
      "outputs": []
    }
  ]
}